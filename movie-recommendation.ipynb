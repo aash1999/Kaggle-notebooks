{
 "cells": [
  {
   "cell_type": "code",
   "execution_count": 1,
   "id": "2a0b1f9e",
   "metadata": {
    "_cell_guid": "b1076dfc-b9ad-4769-8c92-a6c4dae69d19",
    "_uuid": "8f2839f25d086af736a60e9eeb907d3b93b6e0e5",
    "execution": {
     "iopub.execute_input": "2024-11-01T04:31:59.302551Z",
     "iopub.status.busy": "2024-11-01T04:31:59.302097Z",
     "iopub.status.idle": "2024-11-01T04:32:00.444263Z",
     "shell.execute_reply": "2024-11-01T04:32:00.443060Z"
    },
    "papermill": {
     "duration": 1.150263,
     "end_time": "2024-11-01T04:32:00.447161",
     "exception": false,
     "start_time": "2024-11-01T04:31:59.296898",
     "status": "completed"
    },
    "tags": []
   },
   "outputs": [
    {
     "name": "stdout",
     "output_type": "stream",
     "text": [
      "/kaggle/input/tmdb-movies-daily-updates/TMDB_all_movies.csv\n"
     ]
    }
   ],
   "source": [
    "# This Python 3 environment comes with many helpful analytics libraries installed\n",
    "# It is defined by the kaggle/python Docker image: https://github.com/kaggle/docker-python\n",
    "# For example, here's several helpful packages to load\n",
    "\n",
    "import numpy as np # linear algebra\n",
    "import pandas as pd # data processing, CSV file I/O (e.g. pd.read_csv)\n",
    "\n",
    "# Input data files are available in the read-only \"../input/\" directory\n",
    "# For example, running this (by clicking run or pressing Shift+Enter) will list all files under the input directory\n",
    "\n",
    "import os\n",
    "for dirname, _, filenames in os.walk('/kaggle/input'):\n",
    "    for filename in filenames:\n",
    "        print(os.path.join(dirname, filename))\n",
    "\n",
    "# You can write up to 20GB to the current directory (/kaggle/working/) that gets preserved as output when you create a version using \"Save & Run All\" \n",
    "# You can also write temporary files to /kaggle/temp/, but they won't be saved outside of the current session"
   ]
  },
  {
   "cell_type": "code",
   "execution_count": 2,
   "id": "8bcf994e",
   "metadata": {
    "execution": {
     "iopub.execute_input": "2024-11-01T04:32:00.455460Z",
     "iopub.status.busy": "2024-11-01T04:32:00.454891Z",
     "iopub.status.idle": "2024-11-01T04:32:26.805365Z",
     "shell.execute_reply": "2024-11-01T04:32:26.804181Z"
    },
    "papermill": {
     "duration": 26.35773,
     "end_time": "2024-11-01T04:32:26.808271",
     "exception": false,
     "start_time": "2024-11-01T04:32:00.450541",
     "status": "completed"
    },
    "tags": []
   },
   "outputs": [
    {
     "name": "stdout",
     "output_type": "stream",
     "text": [
      "   id                             title  vote_average  vote_count    status  \\\n",
      "0   2                             Ariel           7.1       330.0  Released   \n",
      "1   3               Shadows in Paradise           7.3       369.0  Released   \n",
      "2   5                        Four Rooms           5.8      2623.0  Released   \n",
      "3   6                    Judgment Night           6.5       331.0  Released   \n",
      "4   8  Life in Loops (A Megacities RMX)           7.5        27.0  Released   \n",
      "\n",
      "  release_date     revenue  runtime      budget    imdb_id  ...  \\\n",
      "0   1988-10-21         0.0     73.0         0.0  tt0094675  ...   \n",
      "1   1986-10-17         0.0     74.0         0.0  tt0092149  ...   \n",
      "2   1995-12-09   4257354.0     98.0   4000000.0  tt0113101  ...   \n",
      "3   1993-10-15  12136938.0    109.0  21000000.0  tt0107286  ...   \n",
      "4   2006-01-01         0.0     80.0     42000.0  tt0825671  ...   \n",
      "\n",
      "                         spoken_languages  \\\n",
      "0                                   suomi   \n",
      "1                 suomi, English, svenska   \n",
      "2                                 English   \n",
      "3                                 English   \n",
      "4  English, हिन्दी, 日本語, Pусский, Español   \n",
      "\n",
      "                                                cast  \\\n",
      "0  Tomi Salmela, Jaakko Talaskivi, Hannu Kivisalo...   \n",
      "1  Kati Outinen, Ulla Kuosmanen, Jaakko Talaskivi...   \n",
      "2  Quentin Tarantino, Jennifer Beals, Antonio Ban...   \n",
      "3  Christine Harnos, Lauren Robinson, Deirdre Kel...   \n",
      "4                                                NaN   \n",
      "\n",
      "                                            director  \\\n",
      "0                                     Aki Kaurismäki   \n",
      "1                                     Aki Kaurismäki   \n",
      "2  Alexandre Rockwell, Quentin Tarantino, Allison...   \n",
      "3                                    Stephen Hopkins   \n",
      "4                                       Timo Novotny   \n",
      "\n",
      "                             director_of_photography  \\\n",
      "0                                      Timo Salminen   \n",
      "1                                      Timo Salminen   \n",
      "2  Rodrigo García, Guillermo Navarro, Phil Parmet...   \n",
      "3                                         Peter Levy   \n",
      "4                                    Wolfgang Thaler   \n",
      "\n",
      "                                             writers  \\\n",
      "0                                     Aki Kaurismäki   \n",
      "1                                     Aki Kaurismäki   \n",
      "2  Alexandre Rockwell, Quentin Tarantino, Allison...   \n",
      "3                      Lewis Colick, Jere Cunningham   \n",
      "4                    Michael Glawogger, Timo Novotny   \n",
      "\n",
      "                                           producers      music_composer  \\\n",
      "0                                     Aki Kaurismäki                 NaN   \n",
      "1                                    Mika Kaurismäki                 NaN   \n",
      "2  Alexandre Rockwell, Quentin Tarantino, Lawrenc...  Combustible Edison   \n",
      "3              Lloyd Segan, Gene Levy, Marilyn Vance      Alan Silvestri   \n",
      "4                     Ulrich Gehmacher, Timo Novotny                 NaN   \n",
      "\n",
      "  imdb_rating imdb_votes                       poster_path  \n",
      "0         7.4     8742.0  /ojDg0PGvs6R9xYFodRct2kdI6wC.jpg  \n",
      "1         7.5     7494.0  /nj01hspawPof0mJmlgfjuLyJuRN.jpg  \n",
      "2         6.7   112498.0  /75aHn1NOYXh4M7L5shoeQ6NGykP.jpg  \n",
      "3         6.6    19271.0  /3rvvpS9YPM5HB2f4HYiNiJVtdam.jpg  \n",
      "4         8.2      284.0  /7ln81BRnPR2wqxuITZxEciCe1lc.jpg  \n",
      "\n",
      "[5 rows x 28 columns]\n",
      "<class 'pandas.core.frame.DataFrame'>\n",
      "RangeIndex: 1010922 entries, 0 to 1010921\n",
      "Data columns (total 28 columns):\n",
      " #   Column                   Non-Null Count    Dtype  \n",
      "---  ------                   --------------    -----  \n",
      " 0   id                       1010922 non-null  int64  \n",
      " 1   title                    1010911 non-null  object \n",
      " 2   vote_average             1010920 non-null  float64\n",
      " 3   vote_count               1010920 non-null  float64\n",
      " 4   status                   1010920 non-null  object \n",
      " 5   release_date             899038 non-null   object \n",
      " 6   revenue                  1010920 non-null  float64\n",
      " 7   runtime                  1010920 non-null  float64\n",
      " 8   budget                   1010920 non-null  float64\n",
      " 9   imdb_id                  588022 non-null   object \n",
      " 10  original_language        1010920 non-null  object \n",
      " 11  original_title           1010911 non-null  object \n",
      " 12  overview                 833147 non-null   object \n",
      " 13  popularity               1010920 non-null  float64\n",
      " 14  tagline                  149792 non-null   object \n",
      " 15  genres                   717071 non-null   object \n",
      " 16  production_companies     465897 non-null   object \n",
      " 17  production_countries     611438 non-null   object \n",
      " 18  spoken_languages         622389 non-null   object \n",
      " 19  cast                     674298 non-null   object \n",
      " 20  director                 828346 non-null   object \n",
      " 21  director_of_photography  242191 non-null   object \n",
      " 22  writers                  489016 non-null   object \n",
      " 23  producers                321037 non-null   object \n",
      " 24  music_composer           98722 non-null    object \n",
      " 25  imdb_rating              427763 non-null   float64\n",
      " 26  imdb_votes               427763 non-null   float64\n",
      " 27  poster_path              713198 non-null   object \n",
      "dtypes: float64(8), int64(1), object(19)\n",
      "memory usage: 216.0+ MB\n",
      "None\n",
      "                 id  vote_average    vote_count       revenue       runtime  \\\n",
      "count  1.010922e+06  1.010920e+06  1.010920e+06  1.010920e+06  1.010920e+06   \n",
      "mean   7.160459e+05  2.132135e+00  2.341728e+01  7.921437e+05  4.553808e+01   \n",
      "std    3.961523e+05  3.092887e+00  3.628028e+02  1.842782e+07  5.819702e+01   \n",
      "min    2.000000e+00  0.000000e+00  0.000000e+00 -1.200000e+01  0.000000e+00   \n",
      "25%    3.828635e+05  0.000000e+00  0.000000e+00  0.000000e+00  1.000000e+00   \n",
      "50%    7.118125e+05  0.000000e+00  0.000000e+00  0.000000e+00  2.300000e+01   \n",
      "75%    1.067572e+06  5.000000e+00  1.000000e+00  0.000000e+00  8.600000e+01   \n",
      "max    5.180730e+06  1.000000e+01  3.645500e+04  3.000000e+09  1.440000e+04   \n",
      "\n",
      "             budget    popularity    imdb_rating    imdb_votes  \n",
      "count  1.010920e+06  1.010920e+06  427763.000000  4.277630e+05  \n",
      "mean   3.088388e+05  1.942546e+00       6.255791  2.815586e+03  \n",
      "std    5.034319e+06  1.248265e+01       1.318790  3.162158e+04  \n",
      "min    0.000000e+00  0.000000e+00       1.000000  5.000000e+00  \n",
      "25%    0.000000e+00  6.000000e-01       5.500000  2.000000e+01  \n",
      "50%    0.000000e+00  8.400000e-01       6.400000  5.900000e+01  \n",
      "75%    0.000000e+00  1.476000e+00       7.100000  2.670000e+02  \n",
      "max    6.456547e+08  6.130313e+03      10.000000  2.956784e+06  \n"
     ]
    }
   ],
   "source": [
    "df = pd.read_csv(\"/kaggle/input/tmdb-movies-daily-updates/TMDB_all_movies.csv\")\n",
    "print(df.head())\n",
    "print(df.info())\n",
    "print(df.describe())\n"
   ]
  },
  {
   "cell_type": "code",
   "execution_count": 3,
   "id": "b74952dd",
   "metadata": {
    "execution": {
     "iopub.execute_input": "2024-11-01T04:32:26.817788Z",
     "iopub.status.busy": "2024-11-01T04:32:26.816831Z",
     "iopub.status.idle": "2024-11-01T04:32:26.881216Z",
     "shell.execute_reply": "2024-11-01T04:32:26.879911Z"
    },
    "papermill": {
     "duration": 0.072495,
     "end_time": "2024-11-01T04:32:26.884488",
     "exception": false,
     "start_time": "2024-11-01T04:32:26.811993",
     "status": "completed"
    },
    "tags": []
   },
   "outputs": [
    {
     "data": {
      "text/html": [
       "<div>\n",
       "<style scoped>\n",
       "    .dataframe tbody tr th:only-of-type {\n",
       "        vertical-align: middle;\n",
       "    }\n",
       "\n",
       "    .dataframe tbody tr th {\n",
       "        vertical-align: top;\n",
       "    }\n",
       "\n",
       "    .dataframe thead th {\n",
       "        text-align: right;\n",
       "    }\n",
       "</style>\n",
       "<table border=\"1\" class=\"dataframe\">\n",
       "  <thead>\n",
       "    <tr style=\"text-align: right;\">\n",
       "      <th></th>\n",
       "      <th>title</th>\n",
       "      <th>vote_average</th>\n",
       "      <th>vote_count</th>\n",
       "      <th>genres</th>\n",
       "      <th>overview</th>\n",
       "    </tr>\n",
       "  </thead>\n",
       "  <tbody>\n",
       "    <tr>\n",
       "      <th>0</th>\n",
       "      <td>Ariel</td>\n",
       "      <td>7.1</td>\n",
       "      <td>330.0</td>\n",
       "      <td>Comedy, Drama, Romance, Crime</td>\n",
       "      <td>After the coal mine he works at closes and his...</td>\n",
       "    </tr>\n",
       "    <tr>\n",
       "      <th>1</th>\n",
       "      <td>Shadows in Paradise</td>\n",
       "      <td>7.3</td>\n",
       "      <td>369.0</td>\n",
       "      <td>Comedy, Drama, Romance</td>\n",
       "      <td>Nikander, a rubbish collector and would-be ent...</td>\n",
       "    </tr>\n",
       "    <tr>\n",
       "      <th>2</th>\n",
       "      <td>Four Rooms</td>\n",
       "      <td>5.8</td>\n",
       "      <td>2623.0</td>\n",
       "      <td>Comedy</td>\n",
       "      <td>It's Ted the Bellhop's first night on the job....</td>\n",
       "    </tr>\n",
       "    <tr>\n",
       "      <th>3</th>\n",
       "      <td>Judgment Night</td>\n",
       "      <td>6.5</td>\n",
       "      <td>331.0</td>\n",
       "      <td>Action, Crime, Thriller</td>\n",
       "      <td>Four young friends, while taking a shortcut en...</td>\n",
       "    </tr>\n",
       "    <tr>\n",
       "      <th>4</th>\n",
       "      <td>Life in Loops (A Megacities RMX)</td>\n",
       "      <td>7.5</td>\n",
       "      <td>27.0</td>\n",
       "      <td>Documentary</td>\n",
       "      <td>Timo Novotny labels his new project an experim...</td>\n",
       "    </tr>\n",
       "  </tbody>\n",
       "</table>\n",
       "</div>"
      ],
      "text/plain": [
       "                              title  vote_average  vote_count  \\\n",
       "0                             Ariel           7.1       330.0   \n",
       "1               Shadows in Paradise           7.3       369.0   \n",
       "2                        Four Rooms           5.8      2623.0   \n",
       "3                    Judgment Night           6.5       331.0   \n",
       "4  Life in Loops (A Megacities RMX)           7.5        27.0   \n",
       "\n",
       "                          genres  \\\n",
       "0  Comedy, Drama, Romance, Crime   \n",
       "1         Comedy, Drama, Romance   \n",
       "2                         Comedy   \n",
       "3        Action, Crime, Thriller   \n",
       "4                    Documentary   \n",
       "\n",
       "                                            overview  \n",
       "0  After the coal mine he works at closes and his...  \n",
       "1  Nikander, a rubbish collector and would-be ent...  \n",
       "2  It's Ted the Bellhop's first night on the job....  \n",
       "3  Four young friends, while taking a shortcut en...  \n",
       "4  Timo Novotny labels his new project an experim...  "
      ]
     },
     "execution_count": 3,
     "metadata": {},
     "output_type": "execute_result"
    }
   ],
   "source": [
    "cols = [\"title\", \"vote_average\", \"vote_count\", \"genres\", \"overview\"]\n",
    "df1 = df[cols]\n",
    "df1.head()"
   ]
  },
  {
   "cell_type": "code",
   "execution_count": 4,
   "id": "5885de08",
   "metadata": {
    "execution": {
     "iopub.execute_input": "2024-11-01T04:32:26.894278Z",
     "iopub.status.busy": "2024-11-01T04:32:26.893863Z",
     "iopub.status.idle": "2024-11-01T04:32:26.901929Z",
     "shell.execute_reply": "2024-11-01T04:32:26.900709Z"
    },
    "papermill": {
     "duration": 0.016013,
     "end_time": "2024-11-01T04:32:26.904632",
     "exception": false,
     "start_time": "2024-11-01T04:32:26.888619",
     "status": "completed"
    },
    "tags": []
   },
   "outputs": [
    {
     "data": {
      "text/plain": [
       "'After the coal mine he works at closes and his father commits suicide, a Finnish man leaves for the city to make a living but there, he is framed and imprisoned for various crimes.'"
      ]
     },
     "execution_count": 4,
     "metadata": {},
     "output_type": "execute_result"
    }
   ],
   "source": [
    "df1[\"overview\"][0]"
   ]
  },
  {
   "cell_type": "code",
   "execution_count": null,
   "id": "f8ee21ab",
   "metadata": {
    "papermill": {
     "duration": 0.004289,
     "end_time": "2024-11-01T04:32:26.913093",
     "exception": false,
     "start_time": "2024-11-01T04:32:26.908804",
     "status": "completed"
    },
    "tags": []
   },
   "outputs": [],
   "source": []
  }
 ],
 "metadata": {
  "kaggle": {
   "accelerator": "none",
   "dataSources": [
    {
     "datasetId": 4568658,
     "sourceId": 9772078,
     "sourceType": "datasetVersion"
    }
   ],
   "dockerImageVersionId": 30786,
   "isGpuEnabled": false,
   "isInternetEnabled": true,
   "language": "python",
   "sourceType": "notebook"
  },
  "kernelspec": {
   "display_name": "Python 3",
   "language": "python",
   "name": "python3"
  },
  "language_info": {
   "codemirror_mode": {
    "name": "ipython",
    "version": 3
   },
   "file_extension": ".py",
   "mimetype": "text/x-python",
   "name": "python",
   "nbconvert_exporter": "python",
   "pygments_lexer": "ipython3",
   "version": "3.10.14"
  },
  "papermill": {
   "default_parameters": {},
   "duration": 31.898774,
   "end_time": "2024-11-01T04:32:27.940881",
   "environment_variables": {},
   "exception": null,
   "input_path": "__notebook__.ipynb",
   "output_path": "__notebook__.ipynb",
   "parameters": {},
   "start_time": "2024-11-01T04:31:56.042107",
   "version": "2.6.0"
  }
 },
 "nbformat": 4,
 "nbformat_minor": 5
}
